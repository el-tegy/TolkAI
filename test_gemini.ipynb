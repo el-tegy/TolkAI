{
 "cells": [
  {
   "cell_type": "markdown",
   "metadata": {},
   "source": [
    "Try Gemini Pro"
   ]
  },
  {
   "cell_type": "code",
   "execution_count": 3,
   "metadata": {},
   "outputs": [
    {
     "name": "stdout",
     "output_type": "stream",
     "text": [
      "Hello! How may I assist you? \n"
     ]
    }
   ],
   "source": [
    "from vertexai.preview.generative_models import GenerativeModel\n",
    "\n",
    "def get_chat_response(message):   \n",
    "    #vertexai.init(project=\"PROJECT_ID\", location=\"us-central1\")   \n",
    "    model = GenerativeModel(\"gemini-pro\")\n",
    "    chat = model.start_chat()\n",
    "    response = chat.send_message(message)\n",
    "    return response.text\n",
    "\n",
    "\n",
    "print(get_chat_response(\"Hello\"))\n",
    "#print(get_chat_response(\"What are all the colors in a rainbow?\"))\n",
    "#print(get_chat_response(\"Why does it appear when it rains?\"))"
   ]
  },
  {
   "cell_type": "code",
   "execution_count": 12,
   "metadata": {},
   "outputs": [
    {
     "name": "stdout",
     "output_type": "stream",
     "text": [
      "The image shows a user interface for creating a new API connection in Power BI.\n",
      " The user can select the data source they want to connect to, and then provide\n",
      " the necessary credentials. Once the connection is created, the user can use the Power BI API to access the data from the data source.\n",
      "\n",
      "The image also shows\n",
      " a code snippet that demonstrates how to use the Power BI API to get data from a dataset. The code snippet shows how to use the `GetDataset` method to get a dataset\n",
      " by its ID, and then use the `GetData` method to get the data from the dataset.\n",
      "\n",
      "The image is a useful resource for anyone who wants to use the Power BI API to get data from a dataset. It provides a clear and concise explanation of the process, and it includes a code snippet that can be used to get started.\n"
     ]
    }
   ],
   "source": [
    "import base64\n",
    "import vertexai\n",
    "from vertexai.preview.generative_models import GenerativeModel, Part\n",
    "\n",
    "def generate():\n",
    "    model = GenerativeModel(\"gemini-pro-vision\")\n",
    "    responses =  model.generate_content(\n",
    "        [image1, \"\"\"Describe this image\"\"\"],\n",
    "        generation_config={\n",
    "            \"max_output_tokens\" : 2048,\n",
    "            \"temperature\" : 0.4,\n",
    "            \"top_p\" : 1,\n",
    "            \"top_k\" : 32\n",
    "        },\n",
    "        stream=True,\n",
    "    )\n",
    "    \n",
    "    for response in responses:\n",
    "        print(response.candidates[0].content.parts[0].text)\n",
    "        # print(dir(response))\n",
    "        \n",
    "\n",
    "image1 = \"\"\"https://www.google.com/url?sa=i&url=https%3A%2F%2Fwww.quora.com%2FHow-can-I-get-data-from-Power-BI-dataset-via-API&psig=AOvVaw1YySa6OTBXzXdsrK-o6jYX&ust=1702576738836000&source=images&cd=vfe&opi=89978449&ved=0CBEQjRxqFwoTCODP-OD-jIMDFQAAAAAdAAAAABAP\"\"\"\n",
    "\n",
    "generate()"
   ]
  }
 ],
 "metadata": {
  "kernelspec": {
   "display_name": "venv",
   "language": "python",
   "name": "python3"
  },
  "language_info": {
   "codemirror_mode": {
    "name": "ipython",
    "version": 3
   },
   "file_extension": ".py",
   "mimetype": "text/x-python",
   "name": "python",
   "nbconvert_exporter": "python",
   "pygments_lexer": "ipython3",
   "version": "3.11.2"
  }
 },
 "nbformat": 4,
 "nbformat_minor": 2
}
