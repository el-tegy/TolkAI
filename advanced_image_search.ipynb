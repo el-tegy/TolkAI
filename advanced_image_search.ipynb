{
 "cells": [
  {
   "cell_type": "code",
   "execution_count": 26,
   "metadata": {},
   "outputs": [],
   "source": [
    "user_query = \"Image of how to import data in power bi desktop\""
   ]
  },
  {
   "cell_type": "code",
   "execution_count": 27,
   "metadata": {},
   "outputs": [],
   "source": [
    "import requests\n",
    "\n",
    "# the following request only returns 10 results per page\n",
    "# how \n",
    "\n",
    "url = \"https://www.googleapis.com/customsearch/v1\"\n",
    "params = {\n",
    "    \"q\": user_query,\n",
    "    \"cx\": \"b3cc7e87732c140e9\",\n",
    "    \"key\": <API_KEY>,\n",
    "    \"searchType\": \"image\"\n",
    "    \n",
    "\n",
    "}\n",
    "response = requests.get(url, params=params)\n",
    "data = response.json()"
   ]
  },
  {
   "cell_type": "code",
   "execution_count": 28,
   "metadata": {},
   "outputs": [],
   "source": [
    "items = data['items']\n",
    "items_links=[item['link'] for item in items]\n",
    "#items"
   ]
  },
  {
   "cell_type": "code",
   "execution_count": 2,
   "metadata": {},
   "outputs": [
    {
     "ename": "NameError",
     "evalue": "name 'items' is not defined",
     "output_type": "error",
     "traceback": [
      "\u001b[1;31m---------------------------------------------------------------------------\u001b[0m",
      "\u001b[1;31mNameError\u001b[0m                                 Traceback (most recent call last)",
      "Cell \u001b[1;32mIn[2], line 5\u001b[0m\n\u001b[0;32m      2\u001b[0m \u001b[38;5;28;01mfrom\u001b[39;00m \u001b[38;5;21;01msklearn\u001b[39;00m\u001b[38;5;21;01m.\u001b[39;00m\u001b[38;5;21;01mmetrics\u001b[39;00m\u001b[38;5;21;01m.\u001b[39;00m\u001b[38;5;21;01mpairwise\u001b[39;00m \u001b[38;5;28;01mimport\u001b[39;00m cosine_similarity\n\u001b[0;32m      4\u001b[0m \u001b[38;5;66;03m# Combine the title and snippet for each item into a single string\u001b[39;00m\n\u001b[1;32m----> 5\u001b[0m combined_texts \u001b[38;5;241m=\u001b[39m [item[\u001b[38;5;124m'\u001b[39m\u001b[38;5;124mtitle\u001b[39m\u001b[38;5;124m'\u001b[39m] \u001b[38;5;241m+\u001b[39m \u001b[38;5;124m'\u001b[39m\u001b[38;5;124m \u001b[39m\u001b[38;5;124m'\u001b[39m \u001b[38;5;241m+\u001b[39m item[\u001b[38;5;124m'\u001b[39m\u001b[38;5;124msnippet\u001b[39m\u001b[38;5;124m'\u001b[39m] \u001b[38;5;28;01mfor\u001b[39;00m item \u001b[38;5;129;01min\u001b[39;00m \u001b[43mitems\u001b[49m]\n\u001b[0;32m      7\u001b[0m \u001b[38;5;66;03m# Add the user query as the first element of the combined_texts\u001b[39;00m\n\u001b[0;32m      8\u001b[0m combined_texts\u001b[38;5;241m.\u001b[39minsert(\u001b[38;5;241m0\u001b[39m, user_query)\n",
      "\u001b[1;31mNameError\u001b[0m: name 'items' is not defined"
     ]
    }
   ],
   "source": [
    "from sklearn.feature_extraction.text import TfidfVectorizer\n",
    "from sklearn.metrics.pairwise import cosine_similarity\n",
    "\n",
    "# Combine the title and snippet for each item into a single string\n",
    "combined_texts = [item['title'] + ' ' + item['snippet'] for item in items]\n",
    "\n",
    "# Add the user query as the first element of the combined_texts\n",
    "combined_texts.insert(0, user_query)\n",
    "\n",
    "# Create a TF-IDF Vectorizer object\n",
    "vectorizer = TfidfVectorizer()\n",
    "\n",
    "# Tokenize and build vocab\n",
    "tfidf_matrix = vectorizer.fit_transform(combined_texts)\n",
    "\n",
    "# Calculate cosine similarity between the user query and all items\n",
    "cosine_similarities = cosine_similarity(tfidf_matrix[0:1], tfidf_matrix[1:])\n",
    "\n",
    "# Get the index of the most similar item\n",
    "most_similar_idx = cosine_similarities.argsort()[0][-1]\n",
    "\n",
    "# Select the most relevant item\n",
    "most_relevant_item = items[most_similar_idx]\n",
    "\n",
    "print(\"The most relevant item is:\", most_relevant_item)"
   ]
  }
 ],
 "metadata": {
  "kernelspec": {
   "display_name": "Python 3",
   "language": "python",
   "name": "python3"
  },
  "language_info": {
   "codemirror_mode": {
    "name": "ipython",
    "version": 3
   },
   "file_extension": ".py",
   "mimetype": "text/x-python",
   "name": "python",
   "nbconvert_exporter": "python",
   "pygments_lexer": "ipython3",
   "version": "3.9.0"
  }
 },
 "nbformat": 4,
 "nbformat_minor": 2
}
