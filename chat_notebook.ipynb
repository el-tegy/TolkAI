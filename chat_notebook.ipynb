{
 "cells": [
  {
   "cell_type": "code",
   "execution_count": 1,
   "metadata": {},
   "outputs": [
    {
     "name": "stderr",
     "output_type": "stream",
     "text": [
      "2023-12-08 15:47:51.911656: I external/local_tsl/tsl/cuda/cudart_stub.cc:31] Could not find cuda drivers on your machine, GPU will not be used.\n",
      "2023-12-08 15:47:52.042579: E external/local_xla/xla/stream_executor/cuda/cuda_dnn.cc:9261] Unable to register cuDNN factory: Attempting to register factory for plugin cuDNN when one has already been registered\n",
      "2023-12-08 15:47:52.042846: E external/local_xla/xla/stream_executor/cuda/cuda_fft.cc:607] Unable to register cuFFT factory: Attempting to register factory for plugin cuFFT when one has already been registered\n",
      "2023-12-08 15:47:52.046622: E external/local_xla/xla/stream_executor/cuda/cuda_blas.cc:1515] Unable to register cuBLAS factory: Attempting to register factory for plugin cuBLAS when one has already been registered\n",
      "2023-12-08 15:47:52.073631: I external/local_tsl/tsl/cuda/cudart_stub.cc:31] Could not find cuda drivers on your machine, GPU will not be used.\n",
      "2023-12-08 15:47:52.078590: I tensorflow/core/platform/cpu_feature_guard.cc:182] This TensorFlow binary is optimized to use available CPU instructions in performance-critical operations.\n",
      "To enable the following instructions: AVX2, in other operations, rebuild TensorFlow with the appropriate compiler flags.\n",
      "2023-12-08 15:47:56.051894: W tensorflow/compiler/tf2tensorrt/utils/py_utils.cc:38] TF-TRT Warning: Could not find TensorRT\n"
     ]
    }
   ],
   "source": [
    "# Copyright 2023 Google LLC\n",
    "#\n",
    "# Licensed under the Apache License, Version 2.0 (the \"License\");\n",
    "# you may not use this file except in compliance with the License.\n",
    "# You may obtain a copy of the License at\n",
    "#\n",
    "#    https://www.apache.org/licenses/LICENSE-2.0\n",
    "#\n",
    "# Unless required by applicable law or agreed to in writing, software\n",
    "# distributed under the License is distributed on an \"AS IS\" BASIS,\n",
    "# WITHOUT WARRANTIES OR CONDITIONS OF ANY KIND, either express or implied.\n",
    "# See the License for the specific language governing permissions and\n",
    "# limitations under the License.\n",
    "\n",
    "# [START aiplatform_sdk_chat]\n",
    "from vertexai.language_models import ChatModel, InputOutputTextPair\n",
    "import warnings\n",
    "\n",
    "# Ingore all TensorFlow warnings\n",
    "warnings.filterwarnings(\"ignore\", category=FutureWarning)\n",
    "warnings.filterwarnings(\"ignore\", category=DeprecationWarning)\n",
    "warnings.simplefilter('ignore')\n"
   ]
  },
  {
   "cell_type": "code",
   "execution_count": 8,
   "metadata": {},
   "outputs": [],
   "source": [
    "def power_bi_llm(temperature: float = 0.2) -> None:\n",
    "    chat_model = ChatModel.from_pretrained(\"chat-bison@002\")\n",
    "\n",
    "    # TODO developer - override these parameters as needed:\n",
    "    parameters = {\n",
    "        \"temperature\": temperature,  # Temperature controls the degree of randomness in token selection.\n",
    "        \"max_output_tokens\": 500,  # Token limit determines the maximum amount of text output.\n",
    "        \"top_p\": 0.95,  # Tokens are selected from most probable to least until the sum of their probabilities equals the top_p value.\n",
    "        \"top_k\": 40,  # A top_k of 1 means the selected token is the most probable among all tokens.\n",
    "    }\n",
    "\n",
    "    chat = chat_model.start_chat(\n",
    "        context=\"I am a POWER BI analyst or POWER BI developper and i need assistance to easily use Power BI analytic tool with image. \\n You must add images to follow in your response. Use the Power BI documentation\"\n",
    "        # examples=[\n",
    "        #     InputOutputTextPair(\n",
    "        #         input_text=\"How to create a histogram in power bi step by step\",\n",
    "        #         output_text=\"The planet Mars has two moons, Phobos and Deimos.\",\n",
    "        #     ),\n",
    "        # ],\n",
    "    )\n",
    "\n",
    "    response = chat.send_message(\n",
    "        \"How to create a histogram in power bi step by step\", **parameters\n",
    "    )\n",
    "    print(f\"Response from Model:\\n {response.text}\")\n",
    "\n",
    "    return response"
   ]
  },
  {
   "cell_type": "code",
   "execution_count": 9,
   "metadata": {},
   "outputs": [
    {
     "name": "stdout",
     "output_type": "stream",
     "text": [
      "Response from Model:\n",
      "  **Step 1: Import your data into Power BI**\n",
      "\n",
      "1. Open Power BI Desktop.\n",
      "2. Click on the \"Get Data\" button in the Home ribbon.\n",
      "3. Select the source of your data (e.g., Excel, CSV, SQL Server).\n",
      "4. Follow the prompts to import your data into Power BI.\n",
      "\n",
      "**Step 2: Create a histogram**\n",
      "\n",
      "1. In the Power BI Desktop window, click on the \"Visualizations\" pane.\n",
      "2. Drag and drop the \"Histogram\" chart type onto your report canvas.\n",
      "3. Select the field that you want to use to create the histogram.\n",
      "4. Click on the \"Format\" button in the Visualizations pane to customize the appearance of your histogram.\n",
      "\n",
      "**Step 3: Interpret your histogram**\n",
      "\n",
      "A histogram is a graphical representation of the distribution of data. It shows the frequency of occurrence of different values in your data set.\n",
      "\n",
      "The x-axis of a histogram represents the values in your data set. The y-axis represents the frequency of occurrence of each value.\n",
      "\n",
      "The shape of a histogram can tell you a lot about your data set. For example, a bell-shaped histogram indicates that your data is normally distributed. A skewed\n"
     ]
    }
   ],
   "source": [
    "if __name__ == \"__main__\":\n",
    "    power_bi_llm()\n",
    "# [END aiplatform_sdk_chat]"
   ]
  }
 ],
 "metadata": {
  "kernelspec": {
   "display_name": "venv",
   "language": "python",
   "name": "python3"
  },
  "language_info": {
   "codemirror_mode": {
    "name": "ipython",
    "version": 3
   },
   "file_extension": ".py",
   "mimetype": "text/x-python",
   "name": "python",
   "nbconvert_exporter": "python",
   "pygments_lexer": "ipython3",
   "version": "3.11.2"
  }
 },
 "nbformat": 4,
 "nbformat_minor": 2
}
